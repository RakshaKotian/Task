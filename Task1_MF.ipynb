{
 "cells": [
  {
   "cell_type": "code",
   "execution_count": 4,
   "id": "96e375e7-753e-4e84-a93b-0e1883c5e775",
   "metadata": {},
   "outputs": [
    {
     "name": "stdout",
     "output_type": "stream",
     "text": [
      "Original List: [1, 2, 3, 4]\n",
      "List after adding an element: [1, 2, 3, 4, 5]\n",
      "List after removing an element: [1, 3, 4, 5]\n",
      "List after modifying an element: [1, 3, 10, 5]\n",
      "\n",
      "Original Dictionary: {'Name': 'Riya', 'Age': 25, 'Country': 'India', 'Phone': 9863542345}\n",
      "Dictionary after adding a key-value pair: {'Name': 'Riya', 'Age': 25, 'Country': 'India', 'Phone': 9863542345, 'City': 'Mumbai'}\n",
      "Dictionary after removing a key-value pair: {'Name': 'Riya', 'Country': 'India', 'Phone': 9863542345, 'City': 'Mumbai'}\n",
      "Dictionary after modifying a value: {'Name': 'Ram', 'Country': 'India', 'Phone': 9863542345, 'City': 'Mumbai'}\n",
      "\n",
      "Original Set: {1, 2, 3, 4}\n",
      "Set after adding an element: {1, 2, 3, 4, 5}\n",
      "Set after removing an element: {1, 2, 4, 5}\n",
      "Set after attempting to add a duplicate: {1, 2, 4, 5}\n"
     ]
    }
   ],
   "source": [
    "# 1.The list operations\n",
    "list_1 = [1, 2, 3, 4]\n",
    "print(\"Original List:\", list_1)\n",
    "\n",
    "# Adding elements to the list\n",
    "list_1.append(5)\n",
    "print(\"List after adding an element:\", list_1)\n",
    "\n",
    "# Removing an element\n",
    "list_1.remove(2)\n",
    "print(\"List after removing an element:\", list_1)\n",
    "\n",
    "# Modifying an element\n",
    "list_1[2] = 10\n",
    "print(\"List after modifying an element:\", list_1)\n",
    "\n",
    "\n",
    "# 2. The Dictionary operations\n",
    "dict_2 = {\"Name\": \"Riya\", \"Age\": 25, \"Country\":\"India\", \"Phone\":9863542345}\n",
    "print(\"\\nOriginal Dictionary:\", dict_2)\n",
    "\n",
    "# Adding a key-value pair\n",
    "dict_2[\"City\"] = \"Mumbai\"\n",
    "print(\"Dictionary after adding a key-value pair:\", dict_2)\n",
    "\n",
    "# Removing a key-value pair\n",
    "del dict_2[\"Age\"]\n",
    "print(\"Dictionary after removing a key-value pair:\", dict_2)\n",
    "\n",
    "# Modifying a value\n",
    "dict_2[\"Name\"] = \"Ram\"\n",
    "print(\"Dictionary after modifying a value:\", dict_2)\n",
    "\n",
    "\n",
    "# 3. The Set operations\n",
    "set_3 = {1, 2, 3, 4}\n",
    "print(\"\\nOriginal Set:\", set_3)\n",
    "\n",
    "# Adding an element\n",
    "set_3.add(5)\n",
    "print(\"Set after adding an element:\", set_3)\n",
    "\n",
    "# Removing an element\n",
    "set_3.remove(3)\n",
    "print(\"Set after removing an element:\", set_3)\n",
    "\n",
    "# Sets do not allow duplicate elements\n",
    "set_3.add(2)\n",
    "print(\"Set after attempting to add a duplicate:\", set_3)"
   ]
  },
  {
   "cell_type": "code",
   "execution_count": null,
   "id": "a58ee6bf-23d1-41e8-99ef-39b193c6677a",
   "metadata": {},
   "outputs": [],
   "source": []
  }
 ],
 "metadata": {
  "kernelspec": {
   "display_name": "Python 3 (ipykernel)",
   "language": "python",
   "name": "python3"
  },
  "language_info": {
   "codemirror_mode": {
    "name": "ipython",
    "version": 3
   },
   "file_extension": ".py",
   "mimetype": "text/x-python",
   "name": "python",
   "nbconvert_exporter": "python",
   "pygments_lexer": "ipython3",
   "version": "3.13.0"
  }
 },
 "nbformat": 4,
 "nbformat_minor": 5
}
